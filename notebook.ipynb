{
 "cells": [
  {
   "attachments": {},
   "cell_type": "markdown",
   "metadata": {},
   "source": [
    "# H4221 - Rapport Machine Learning\n",
    "\n",
    "[a compléter]\n",
    "\n",
    "Auteurs: \n",
    "- DUBILLOT Elise\n",
    "- FLANDRE Corentin\n",
    "- THOMAS Colin"
   ]
  },
  {
   "attachments": {},
   "cell_type": "markdown",
   "metadata": {},
   "source": [
    "## Introduction\n",
    "\n",
    "L'objectif du projet est de tester différents modèles de [a compléter]"
   ]
  },
  {
   "cell_type": "code",
   "execution_count": 13,
   "metadata": {},
   "outputs": [],
   "source": [
    "print(\"hello-world\")"
   ]
  },
  {
   "attachments": {},
   "cell_type": "markdown",
   "metadata": {},
   "source": [
    "## Chargement du jeu de données"
   ]
  },
  {
   "cell_type": "code",
   "execution_count": 14,
   "metadata": {},
   "outputs": [],
   "source": [
    "import pandas as pd\n",
    "\n",
    "df = pd.read_csv(\"kc_house_data.csv\")\n",
    "print(df)\n"
   ]
  },
  {
   "attachments": {},
   "cell_type": "markdown",
   "metadata": {},
   "source": [
    "### Traitement du jeu de données\n",
    "\n",
    "[blabla à compléter]\n",
    "\n",
    "Un traitement sur la date est à réaliser. Nous faisons le choix d'identifier uniquement le mois de la vente pour l'utilisr plus tard. Le jeu de données prend en compte des dates entre Mai 2014 et Mai 2015"
   ]
  },
  {
   "cell_type": "code",
   "execution_count": 18,
   "metadata": {},
   "outputs": [
    {
     "name": "stdout",
     "output_type": "stream",
     "text": [
      "size: 21613\n",
      "0         month6\n",
      "1         month8\n",
      "2        month10\n",
      "3         month8\n",
      "4        month10\n",
      "          ...   \n",
      "21608     month1\n",
      "21609    month10\n",
      "21610     month2\n",
      "21611     month9\n",
      "21612     month6\n",
      "Name: date, Length: 21613, dtype: object\n"
     ]
    },
    {
     "ename": "ValueError",
     "evalue": "invalid literal for int() with base 10: 'mont'",
     "output_type": "error",
     "traceback": [
      "\u001b[0;31m---------------------------------------------------------------------------\u001b[0m",
      "\u001b[0;31mValueError\u001b[0m                                Traceback (most recent call last)",
      "\u001b[1;32m/mnt/c/Users/fland/Desktop/4IF/ML-Machine_Learning/ProjetML/notebook.ipynb Cell 7\u001b[0m in \u001b[0;36m<cell line: 4>\u001b[0;34m()\u001b[0m\n\u001b[1;32m      <a href='vscode-notebook-cell://wsl%2Bubuntu-20.04/mnt/c/Users/fland/Desktop/4IF/ML-Machine_Learning/ProjetML/notebook.ipynb#W6sdnNjb2RlLXJlbW90ZQ%3D%3D?line=2'>3</a>\u001b[0m \u001b[39mprint\u001b[39m(df[\u001b[39m\"\u001b[39m\u001b[39mdate\u001b[39m\u001b[39m\"\u001b[39m])\n\u001b[1;32m      <a href='vscode-notebook-cell://wsl%2Bubuntu-20.04/mnt/c/Users/fland/Desktop/4IF/ML-Machine_Learning/ProjetML/notebook.ipynb#W6sdnNjb2RlLXJlbW90ZQ%3D%3D?line=3'>4</a>\u001b[0m \u001b[39mfor\u001b[39;00m i \u001b[39min\u001b[39;00m \u001b[39mrange\u001b[39m(\u001b[39mlen\u001b[39m(df)):\n\u001b[0;32m----> <a href='vscode-notebook-cell://wsl%2Bubuntu-20.04/mnt/c/Users/fland/Desktop/4IF/ML-Machine_Learning/ProjetML/notebook.ipynb#W6sdnNjb2RlLXJlbW90ZQ%3D%3D?line=4'>5</a>\u001b[0m     year \u001b[39m=\u001b[39m \u001b[39mint\u001b[39;49m(df[\u001b[39m\"\u001b[39;49m\u001b[39mdate\u001b[39;49m\u001b[39m\"\u001b[39;49m][i][\u001b[39m0\u001b[39;49m:\u001b[39m4\u001b[39;49m])\n\u001b[1;32m      <a href='vscode-notebook-cell://wsl%2Bubuntu-20.04/mnt/c/Users/fland/Desktop/4IF/ML-Machine_Learning/ProjetML/notebook.ipynb#W6sdnNjb2RlLXJlbW90ZQ%3D%3D?line=5'>6</a>\u001b[0m     month \u001b[39m=\u001b[39m \u001b[39mint\u001b[39m(df[\u001b[39m\"\u001b[39m\u001b[39mdate\u001b[39m\u001b[39m\"\u001b[39m][i][\u001b[39m4\u001b[39m:\u001b[39m6\u001b[39m])\n\u001b[1;32m      <a href='vscode-notebook-cell://wsl%2Bubuntu-20.04/mnt/c/Users/fland/Desktop/4IF/ML-Machine_Learning/ProjetML/notebook.ipynb#W6sdnNjb2RlLXJlbW90ZQ%3D%3D?line=6'>7</a>\u001b[0m     \u001b[39m# day = int(df[\"date\"][i][6:8]) # donnee non utilise pour notre traitement\u001b[39;00m\n",
      "\u001b[0;31mValueError\u001b[0m: invalid literal for int() with base 10: 'mont'"
     ]
    }
   ],
   "source": [
    "# print(df[\"date\"])\n",
    "print(f\"size: {len(df)}\")\n",
    "print(df[\"date\"])\n",
    "for i in range(len(df)):\n",
    "    year = int(df[\"date\"][i][0:4])\n",
    "    month = int(df[\"date\"][i][4:6])\n",
    "    # day = int(df[\"date\"][i][6:8]) # donnee non utilise pour notre traitement\n",
    "    new_date = \"error\"\n",
    "    if year==2014:\n",
    "        if month==5:\n",
    "            new_date = \"month1\"\n",
    "        elif month==6:\n",
    "            new_date = \"month2\"    \n",
    "        elif month==7:\n",
    "            new_date = \"month3\" \n",
    "        elif month==8:\n",
    "            new_date = \"month4\" \n",
    "        elif month==9:\n",
    "            new_date = \"month5\" \n",
    "        elif month==10:\n",
    "            new_date = \"month6\" \n",
    "        elif month==11:\n",
    "            new_date = \"month7\"\n",
    "        elif month==12:\n",
    "            new_date = \"month8\"\n",
    "    elif year==2015:\n",
    "        if month==1:\n",
    "            new_date = \"month9\"\n",
    "        elif month==2:\n",
    "            new_date = \"month10\"    \n",
    "        elif month==3:\n",
    "            new_date = \"month11\" \n",
    "        elif month==4:\n",
    "            new_date = \"month12\" \n",
    "        elif month==5:\n",
    "            new_date = \"month13\" \n",
    "    df[\"date\"][i] = new_date\n",
    "print(\"--------------------\")\n",
    "# print(df[\"date\"])\n",
    "print(df)\n",
    "    \n",
    "    \n"
   ]
  },
  {
   "attachments": {},
   "cell_type": "markdown",
   "metadata": {},
   "source": [
    "## Exploration du jeu de données\n",
    "\n",
    "plt.xlabel(\"Taille du terrain en sqrft\")\n",
    "plt.ylabel('Prix moyen (en $)')\n",
    "plt.title('Prix en fonction de la taille du terrain')\n",
    "plt.show()\n",
    "\n",
    "dfsorted = df[[\"price\", \"zipcode\"]]\n",
    "dfsorted.sort_values(by=[\"zipcode\"], inplace=True)\n",
    "\n",
    "dfpbyb = dfsorted.groupby(\"zipcode\")[\"price\"].mean()\n",
    "\n",
    "dfpbyb.to_numpy()\n",
    "plt.plot(dfpbyb[:])\n",
    "\n",
    "plt.xlabel(\"ZIPCODE\")\n",
    "plt.ylabel('Prix moyen (en $)')\n",
    "plt.title('Prix en fonction du zipcode')\n",
    "plt.show()\n",
    "\n",
    "\n",
    "dfsorted = df[[\"price\", \"lat\"]]\n",
    "dfsorted.sort_values(by=[\"lat\"], inplace=True)\n",
    "\n",
    "dfpbyb = dfsorted.groupby(\"lat\")[\"price\"].mean()\n",
    "\n",
    "dfpbyb.to_numpy()\n",
    "plt.hist(df[\"lat\"], bins = 30)\n",
    "\n",
    "plt.xlabel(\"Latitude\")\n",
    "plt.title('Répartition des données sur la latitude')\n",
    "plt.show()\n",
    "\n",
    "dfsorted = df[[\"price\", \"long\"]]\n",
    "dfsorted.sort_values(by=[\"long\"], inplace=True)\n",
    "\n",
    "dfpbyb = dfsorted.groupby(\"long\")[\"price\"].mean()\n",
    "\n",
    "dfpbyb.to_numpy()\n",
    "plt.hist(df[\"long\"])\n",
    "\n",
    "plt.xlabel(\"Longitude\")\n",
    "plt.title('Répartition des données sur la longitude')\n",
    "plt.show()\n"
   ]
  },
  {
   "cell_type": "code",
   "execution_count": null,
   "metadata": {},
   "outputs": [],
   "source": [
    "import plotly.express as px\n",
    "\n",
    "fig = px.density_mapbox(df, lat='lat', lon='long', z=1,\n",
    "                        mapbox_style=\"stamen-terrain\")\n",
    " \n",
    "fig"
   ]
  },
  {
   "attachments": {},
   "cell_type": "markdown",
   "metadata": {},
   "source": [
    "On remarque ici plusieurs cas aberrants, que l'on traitera dans la partie traitement des données.\n",
    "Par exemple, dans le cas du nombre de chambre, on remarque une donnée qui représente une maison de 33 chambres, coûtant moins qu'une maison moyenne de 7 chambres et n'ayant que 1.25 salles de bain.\n",
    "On remarque également que le prix et la taille du terrain ne semblent pas avoir un lien au delà de environ 0.05 sqft. On peut supposer que cela est du à la multiplicité de facteurs influençant le prix.\n"
   ]
  }
 ],
 "metadata": {
  "kernelspec": {
   "display_name": "Python 3",
   "language": "python",
   "name": "python3"
  },
  "language_info": {
   "codemirror_mode": {
    "name": "ipython",
    "version": 3
   },
   "file_extension": ".py",
   "mimetype": "text/x-python",
   "name": "python",
   "nbconvert_exporter": "python",
   "pygments_lexer": "ipython3",
   "version": "3.8.10"
  },
  "orig_nbformat": 4,
  "vscode": {
   "interpreter": {
    "hash": "e7370f93d1d0cde622a1f8e1c04877d8463912d04d973331ad4851f04de6915a"
   }
  }
 },
 "nbformat": 4,
 "nbformat_minor": 2
}
