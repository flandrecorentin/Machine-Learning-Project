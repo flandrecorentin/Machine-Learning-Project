{
 "cells": [
  {
   "attachments": {},
   "cell_type": "markdown",
   "metadata": {},
   "source": [
    "# H4221 - Rapport Machine Learning\n",
    "\n",
    "[a compléter]\n",
    "\n",
    "Auteurs: \n",
    "- DUBILLOT Elise\n",
    "- FLANDRE Corentin\n",
    "- THOMAS Colin"
   ]
  },
  {
   "attachments": {},
   "cell_type": "markdown",
   "metadata": {},
   "source": [
    "## Introduction\n",
    "\n",
    "L'objectif du projet est de tester différents modèles de [a compléter]"
   ]
  },
  {
   "cell_type": "code",
   "execution_count": 13,
   "metadata": {},
   "outputs": [
    {
     "name": "stdout",
     "output_type": "stream",
     "text": [
      "hello-world\n"
     ]
    }
   ],
   "source": [
    "print(\"hello-world\")"
   ]
  },
  {
   "attachments": {},
   "cell_type": "markdown",
   "metadata": {},
   "source": [
    "## Chargement du jeu de données"
   ]
  },
  {
   "cell_type": "code",
   "execution_count": 14,
   "metadata": {},
   "outputs": [
    {
     "name": "stdout",
     "output_type": "stream",
     "text": [
      "               id             date     price  bedrooms  bathrooms  \\\n",
      "0      7129300520  20141013T000000  221900.0         3       1.00   \n",
      "1      6414100192  20141209T000000  538000.0         3       2.25   \n",
      "2      5631500400  20150225T000000  180000.0         2       1.00   \n",
      "3      2487200875  20141209T000000  604000.0         4       3.00   \n",
      "4      1954400510  20150218T000000  510000.0         3       2.00   \n",
      "...           ...              ...       ...       ...        ...   \n",
      "21608   263000018  20140521T000000  360000.0         3       2.50   \n",
      "21609  6600060120  20150223T000000  400000.0         4       2.50   \n",
      "21610  1523300141  20140623T000000  402101.0         2       0.75   \n",
      "21611   291310100  20150116T000000  400000.0         3       2.50   \n",
      "21612  1523300157  20141015T000000  325000.0         2       0.75   \n",
      "\n",
      "       sqft_living  sqft_lot  floors  waterfront  view  ...  grade  \\\n",
      "0             1180      5650     1.0           0     0  ...      7   \n",
      "1             2570      7242     2.0           0     0  ...      7   \n",
      "2              770     10000     1.0           0     0  ...      6   \n",
      "3             1960      5000     1.0           0     0  ...      7   \n",
      "4             1680      8080     1.0           0     0  ...      8   \n",
      "...            ...       ...     ...         ...   ...  ...    ...   \n",
      "21608         1530      1131     3.0           0     0  ...      8   \n",
      "21609         2310      5813     2.0           0     0  ...      8   \n",
      "21610         1020      1350     2.0           0     0  ...      7   \n",
      "21611         1600      2388     2.0           0     0  ...      8   \n",
      "21612         1020      1076     2.0           0     0  ...      7   \n",
      "\n",
      "       sqft_above  sqft_basement  yr_built  yr_renovated  zipcode      lat  \\\n",
      "0            1180              0      1955             0    98178  47.5112   \n",
      "1            2170            400      1951          1991    98125  47.7210   \n",
      "2             770              0      1933             0    98028  47.7379   \n",
      "3            1050            910      1965             0    98136  47.5208   \n",
      "4            1680              0      1987             0    98074  47.6168   \n",
      "...           ...            ...       ...           ...      ...      ...   \n",
      "21608        1530              0      2009             0    98103  47.6993   \n",
      "21609        2310              0      2014             0    98146  47.5107   \n",
      "21610        1020              0      2009             0    98144  47.5944   \n",
      "21611        1600              0      2004             0    98027  47.5345   \n",
      "21612        1020              0      2008             0    98144  47.5941   \n",
      "\n",
      "          long  sqft_living15  sqft_lot15  \n",
      "0     -122.257           1340        5650  \n",
      "1     -122.319           1690        7639  \n",
      "2     -122.233           2720        8062  \n",
      "3     -122.393           1360        5000  \n",
      "4     -122.045           1800        7503  \n",
      "...        ...            ...         ...  \n",
      "21608 -122.346           1530        1509  \n",
      "21609 -122.362           1830        7200  \n",
      "21610 -122.299           1020        2007  \n",
      "21611 -122.069           1410        1287  \n",
      "21612 -122.299           1020        1357  \n",
      "\n",
      "[21613 rows x 21 columns]\n"
     ]
    }
   ],
   "source": [
    "import pandas as pd\n",
    "\n",
    "df = pd.read_csv(\"kc_house_data.csv\")\n",
    "print(df)\n"
   ]
  },
  {
   "attachments": {},
   "cell_type": "markdown",
   "metadata": {},
   "source": [
    "### Traitement du jeu de données\n",
    "\n",
    "[blabla à compléter]\n",
    "\n",
    "Un traitement sur la date est à réaliser. Nous faisons le choix d'identifier uniquement le mois de la vente pour l'utilisr plus tard. Le jeu de données prend en compte des dates entre Mai 2014 et Mai 2015"
   ]
  },
  {
   "cell_type": "code",
   "execution_count": 18,
   "metadata": {},
   "outputs": [
    {
     "name": "stdout",
     "output_type": "stream",
     "text": [
      "size: 21613\n",
      "0         month6\n",
      "1         month8\n",
      "2        month10\n",
      "3         month8\n",
      "4        month10\n",
      "          ...   \n",
      "21608     month1\n",
      "21609    month10\n",
      "21610     month2\n",
      "21611     month9\n",
      "21612     month6\n",
      "Name: date, Length: 21613, dtype: object\n"
     ]
    },
    {
     "ename": "ValueError",
     "evalue": "invalid literal for int() with base 10: 'mont'",
     "output_type": "error",
     "traceback": [
      "\u001b[0;31m---------------------------------------------------------------------------\u001b[0m",
      "\u001b[0;31mValueError\u001b[0m                                Traceback (most recent call last)",
      "\u001b[1;32m/mnt/c/Users/fland/Desktop/4IF/ML-Machine_Learning/ProjetML/notebook.ipynb Cell 7\u001b[0m in \u001b[0;36m<cell line: 4>\u001b[0;34m()\u001b[0m\n\u001b[1;32m      <a href='vscode-notebook-cell://wsl%2Bubuntu-20.04/mnt/c/Users/fland/Desktop/4IF/ML-Machine_Learning/ProjetML/notebook.ipynb#W6sdnNjb2RlLXJlbW90ZQ%3D%3D?line=2'>3</a>\u001b[0m \u001b[39mprint\u001b[39m(df[\u001b[39m\"\u001b[39m\u001b[39mdate\u001b[39m\u001b[39m\"\u001b[39m])\n\u001b[1;32m      <a href='vscode-notebook-cell://wsl%2Bubuntu-20.04/mnt/c/Users/fland/Desktop/4IF/ML-Machine_Learning/ProjetML/notebook.ipynb#W6sdnNjb2RlLXJlbW90ZQ%3D%3D?line=3'>4</a>\u001b[0m \u001b[39mfor\u001b[39;00m i \u001b[39min\u001b[39;00m \u001b[39mrange\u001b[39m(\u001b[39mlen\u001b[39m(df)):\n\u001b[0;32m----> <a href='vscode-notebook-cell://wsl%2Bubuntu-20.04/mnt/c/Users/fland/Desktop/4IF/ML-Machine_Learning/ProjetML/notebook.ipynb#W6sdnNjb2RlLXJlbW90ZQ%3D%3D?line=4'>5</a>\u001b[0m     year \u001b[39m=\u001b[39m \u001b[39mint\u001b[39;49m(df[\u001b[39m\"\u001b[39;49m\u001b[39mdate\u001b[39;49m\u001b[39m\"\u001b[39;49m][i][\u001b[39m0\u001b[39;49m:\u001b[39m4\u001b[39;49m])\n\u001b[1;32m      <a href='vscode-notebook-cell://wsl%2Bubuntu-20.04/mnt/c/Users/fland/Desktop/4IF/ML-Machine_Learning/ProjetML/notebook.ipynb#W6sdnNjb2RlLXJlbW90ZQ%3D%3D?line=5'>6</a>\u001b[0m     month \u001b[39m=\u001b[39m \u001b[39mint\u001b[39m(df[\u001b[39m\"\u001b[39m\u001b[39mdate\u001b[39m\u001b[39m\"\u001b[39m][i][\u001b[39m4\u001b[39m:\u001b[39m6\u001b[39m])\n\u001b[1;32m      <a href='vscode-notebook-cell://wsl%2Bubuntu-20.04/mnt/c/Users/fland/Desktop/4IF/ML-Machine_Learning/ProjetML/notebook.ipynb#W6sdnNjb2RlLXJlbW90ZQ%3D%3D?line=6'>7</a>\u001b[0m     \u001b[39m# day = int(df[\"date\"][i][6:8]) # donnee non utilise pour notre traitement\u001b[39;00m\n",
      "\u001b[0;31mValueError\u001b[0m: invalid literal for int() with base 10: 'mont'"
     ]
    }
   ],
   "source": [
    "# print(df[\"date\"])\n",
    "print(f\"size: {len(df)}\")\n",
    "print(df[\"date\"])\n",
    "for i in range(len(df)):\n",
    "    year = int(df[\"date\"][i][0:4])\n",
    "    month = int(df[\"date\"][i][4:6])\n",
    "    # day = int(df[\"date\"][i][6:8]) # donnee non utilise pour notre traitement\n",
    "    new_date = \"error\"\n",
    "    if year==2014:\n",
    "        if month==5:\n",
    "            new_date = \"month1\"\n",
    "        elif month==6:\n",
    "            new_date = \"month2\"    \n",
    "        elif month==7:\n",
    "            new_date = \"month3\" \n",
    "        elif month==8:\n",
    "            new_date = \"month4\" \n",
    "        elif month==9:\n",
    "            new_date = \"month5\" \n",
    "        elif month==10:\n",
    "            new_date = \"month6\" \n",
    "        elif month==11:\n",
    "            new_date = \"month7\"\n",
    "        elif month==12:\n",
    "            new_date = \"month8\"\n",
    "    elif year==2015:\n",
    "        if month==1:\n",
    "            new_date = \"month9\"\n",
    "        elif month==2:\n",
    "            new_date = \"month10\"    \n",
    "        elif month==3:\n",
    "            new_date = \"month11\" \n",
    "        elif month==4:\n",
    "            new_date = \"month12\" \n",
    "        elif month==5:\n",
    "            new_date = \"month13\" \n",
    "    df[\"date\"][i] = new_date\n",
    "print(\"--------------------\")\n",
    "# print(df[\"date\"])\n",
    "print(df)\n",
    "    \n",
    "    \n"
   ]
  },
  {
   "attachments": {},
   "cell_type": "markdown",
   "metadata": {},
   "source": [
    "## Exploration du jeu de données\n",
    "\n",
    "[blabla à compléter]"
   ]
  }
 ],
 "metadata": {
  "kernelspec": {
   "display_name": "Python 3",
   "language": "python",
   "name": "python3"
  },
  "language_info": {
   "codemirror_mode": {
    "name": "ipython",
    "version": 3
   },
   "file_extension": ".py",
   "mimetype": "text/x-python",
   "name": "python",
   "nbconvert_exporter": "python",
   "pygments_lexer": "ipython3",
   "version": "3.8.10"
  },
  "orig_nbformat": 4,
  "vscode": {
   "interpreter": {
    "hash": "e7370f93d1d0cde622a1f8e1c04877d8463912d04d973331ad4851f04de6915a"
   }
  }
 },
 "nbformat": 4,
 "nbformat_minor": 2
}
