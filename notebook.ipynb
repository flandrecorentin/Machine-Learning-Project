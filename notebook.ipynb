{
 "cells": [
  {
   "attachments": {},
   "cell_type": "markdown",
   "metadata": {},
   "source": [
    "# H4221 - Rapport Machine Learning\n",
    "\n",
    "[a compléter]\n",
    "\n",
    "Auteurs: \n",
    "- DUBILLOT Elise\n",
    "- FLANDRE Corentin\n",
    "- THOMAS Colin"
   ]
  },
  {
   "attachments": {},
   "cell_type": "markdown",
   "metadata": {},
   "source": [
    "## Introduction\n",
    "\n",
    "L'objectif du projet est de tester différents modèles de [a compléter]"
   ]
  },
  {
   "attachments": {},
   "cell_type": "markdown",
   "metadata": {},
   "source": [
    "## Chargement du jeu de données"
   ]
  },
  {
   "cell_type": "code",
   "execution_count": null,
   "metadata": {},
   "outputs": [],
   "source": [
    "import pandas as pd\n",
    "\n",
    "df = pd.read_csv(\"kc_house_data.csv\")\n",
    "print(df)\n"
   ]
  },
  {
   "attachments": {},
   "cell_type": "markdown",
   "metadata": {},
   "source": [
    "## Exploration du jeu de données"
   ]
  },
  {
   "cell_type": "code",
   "execution_count": null,
   "metadata": {},
   "outputs": [],
   "source": [
    "import matplotlib.pyplot as plt\n",
    "\n",
    "  \n",
    "dfsorted = df[[\"price\", \"bathrooms\"]]\n",
    "dfsorted.sort_values(by=[\"bathrooms\"], inplace=True)\n",
    "\n",
    "dfpbyb = dfsorted.groupby(\"bathrooms\")[\"price\"].mean()\n",
    "\n",
    "dfpbyb.to_numpy()\n",
    "plt.plot(dfpbyb[:])\n",
    "\n",
    "plt.xlabel('Nombre de salles de bains')\n",
    "plt.ylabel('Prix moyen (en $)')\n",
    "plt.title('Prix en fonction du nombre de salles de bains')\n",
    "plt.show()\n",
    "  \n",
    "dfsorted = df[[\"price\", \"floors\"]]\n",
    "dfsorted.sort_values(by=[\"floors\"], inplace=True)\n",
    "\n",
    "dfpbyb = dfsorted.groupby(\"floors\")[\"price\"].mean()\n",
    "\n",
    "dfpbyb.to_numpy()\n",
    "plt.plot(dfpbyb[:])\n",
    "\n",
    "plt.xlabel(\"Nombre d'étages\")\n",
    "plt.ylabel('Prix moyen (en $)')\n",
    "plt.title('Prix en fonction du nombre d\\'étages')\n",
    "plt.show()\n",
    "\n",
    "\n",
    "dfsorted = df[[\"price\", \"sqft_living\"]]\n",
    "dfsorted.sort_values(by=[\"sqft_living\"], inplace=True)\n",
    "\n",
    "dfpbyb = dfsorted.groupby(\"sqft_living\")[\"price\"].mean()\n",
    "\n",
    "dfpbyb.to_numpy()\n",
    "plt.plot(dfpbyb[:])\n",
    "\n",
    "plt.xlabel(\"Nombre de mètres carrés vivables\")\n",
    "plt.ylabel('Prix moyen (en $)')\n",
    "plt.title('Prix en fonction du nombre de mètres carrés vivables')\n",
    "plt.show()\n",
    "\n",
    "\n",
    "dfsorted = df[[\"price\", \"bedrooms\"]]\n",
    "dfsorted.sort_values(by=[\"bedrooms\"], inplace=True)\n",
    "\n",
    "dfpbyb = dfsorted.groupby(\"bedrooms\")[\"price\"].mean()\n",
    "\n",
    "dfpbyb.to_numpy()\n",
    "plt.plot(dfpbyb[:])\n",
    "\n",
    "plt.xlabel(\"Nombre de chambres\")\n",
    "plt.ylabel('Prix moyen (en $)')\n",
    "plt.title('Prix en fonction du nombre de chambres')\n",
    "plt.show()\n",
    "\n",
    "\n",
    "dfsorted = df[[\"price\", \"sqft_lot\"]]\n",
    "dfsorted.sort_values(by=[\"sqft_lot\"], inplace=True)\n",
    "\n",
    "dfpbyb = dfsorted.groupby(\"sqft_lot\")[\"price\"].mean()\n",
    "\n",
    "dfpbyb.to_numpy()\n",
    "plt.plot(dfpbyb[:])\n",
    "\n",
    "plt.xlabel(\"Taille du terrain en sqrft\")\n",
    "plt.ylabel('Prix moyen (en $)')\n",
    "plt.title('Prix en fonction de la taille du terrain')\n",
    "plt.show()\n",
    "\n",
    "dfsorted = df[[\"price\", \"zipcode\"]]\n",
    "dfsorted.sort_values(by=[\"zipcode\"], inplace=True)\n",
    "\n",
    "dfpbyb = dfsorted.groupby(\"zipcode\")[\"price\"].mean()\n",
    "\n",
    "dfpbyb.to_numpy()\n",
    "plt.plot(dfpbyb[:])\n",
    "\n",
    "plt.xlabel(\"ZIPCODE\")\n",
    "plt.ylabel('Prix moyen (en $)')\n",
    "plt.title('Prix en fonction du zipcode')\n",
    "plt.show()\n",
    "\n",
    "\n",
    "dfsorted = df[[\"price\", \"lat\"]]\n",
    "dfsorted.sort_values(by=[\"lat\"], inplace=True)\n",
    "\n",
    "dfpbyb = dfsorted.groupby(\"lat\")[\"price\"].mean()\n",
    "\n",
    "dfpbyb.to_numpy()\n",
    "plt.hist(df[\"lat\"], bins = 30)\n",
    "\n",
    "plt.xlabel(\"Latitude\")\n",
    "plt.title('Répartition des données sur la latitude')\n",
    "plt.show()\n",
    "\n",
    "dfsorted = df[[\"price\", \"long\"]]\n",
    "dfsorted.sort_values(by=[\"long\"], inplace=True)\n",
    "\n",
    "dfpbyb = dfsorted.groupby(\"long\")[\"price\"].mean()\n",
    "\n",
    "dfpbyb.to_numpy()\n",
    "plt.hist(df[\"long\"])\n",
    "\n",
    "plt.xlabel(\"Longitude\")\n",
    "plt.title('Répartition des données sur la longitude')\n",
    "plt.show()\n"
   ]
  },
  {
   "cell_type": "code",
   "execution_count": null,
   "metadata": {},
   "outputs": [],
   "source": [
    "import plotly.express as px\n",
    "\n",
    "fig = px.density_mapbox(df, lat='lat', lon='long',\n",
    "                        mapbox_style=\"stamen-terrain\")\n",
    " \n",
    "fig"
   ]
  },
  {
   "attachments": {},
   "cell_type": "markdown",
   "metadata": {},
   "source": [
    "On remarque ici plusieurs cas aberrants, que l'on traitera dans la partie traitement des données.\n",
    "Par exemple, dans le cas du nombre de chambre, on remarque une donnée qui représente une maison de 33 chambres, coûtant moins qu'une maison moyenne de 7 chambres et n'ayant que 1.25 salles de bain.\n",
    "On remarque également que le prix et la taille du terrain ne semblent pas avoir un lien au delà de environ 0.05 sqft. On peut supposer que cela est du à la multiplicité de facteurs influençant le prix.\n",
    "\n"
   ]
  },
  {
   "attachments": {},
   "cell_type": "markdown",
   "metadata": {},
   "source": [
    "### Traitement du jeu de données\n",
    "\n",
    "[blabla à compléter]\n",
    "\n",
    "Un traitement sur la date est à réaliser. Nous faisons le choix d'identifier uniquement le mois de la vente pour l'utilisr plus tard. Le jeu de données prend en compte des dates entre Mai 2014 et Mai 2015"
   ]
  },
  {
   "cell_type": "code",
   "execution_count": null,
   "metadata": {},
   "outputs": [],
   "source": [
    "\n",
    "new_dates = []\n",
    "for i in range(len(df)):\n",
    "    year = int(df[\"date\"][i][0:4])\n",
    "    month = int(df[\"date\"][i][4:6])\n",
    "    # day = int(df[\"date\"][i][6:8]) # donnee non utilise pour notre traitement\n",
    "    new_date = 0\n",
    "    if year==2014:\n",
    "        if month==5:\n",
    "            new_date = 1\n",
    "        elif month==6:\n",
    "            new_date = 2    \n",
    "        elif month==7:\n",
    "            new_date = 3 \n",
    "        elif month==8:\n",
    "            new_date = 4 \n",
    "        elif month==9:\n",
    "            new_date = 5 \n",
    "        elif month==10:\n",
    "            new_date = 6 \n",
    "        elif month==11:\n",
    "            new_date = 7\n",
    "        elif month==12:\n",
    "            new_date = 8\n",
    "    elif year==2015:\n",
    "        if month==1:\n",
    "            new_date = 9\n",
    "        elif month==2:\n",
    "            new_date = 10    \n",
    "        elif month==3:\n",
    "            new_date = 11 \n",
    "        elif month==4:\n",
    "            new_date = 12 \n",
    "        elif month==5:\n",
    "            new_date = 13 \n",
    "    new_dates.append(new_date)\n",
    "df.date = new_dates\n",
    "\n",
    "# Gestion des erreurs de dates\n",
    "print(f\"There is {len(df.loc[df['date'] == 0])} raws with date not between May-2014 and May-2015\")\n",
    "    \n",
    "    \n"
   ]
  },
  {
   "attachments": {},
   "cell_type": "markdown",
   "metadata": {},
   "source": [
    "Au vu de l'étude que l'on veut faire du jeu de données, il faut maintenant ne plus prendre en considération le prix de vente des maisons comme entrées. On les enlève du dataset en le renseignant ailleurs"
   ]
  },
  {
   "cell_type": "code",
   "execution_count": null,
   "metadata": {},
   "outputs": [],
   "source": [
    "# \n",
    "#\n",
    "# "
   ]
  },
  {
   "attachments": {},
   "cell_type": "markdown",
   "metadata": {},
   "source": [
    "# Modèle de régression linéaire\n",
    "\n",
    "[blabla à compléter]"
   ]
  },
  {
   "attachments": {},
   "cell_type": "markdown",
   "metadata": {},
   "source": [
    "# Modèle de régression ridge\n",
    "\n",
    "[blabla à compléter sur le modèle de regression]"
   ]
  },
  {
   "cell_type": "code",
   "execution_count": null,
   "metadata": {},
   "outputs": [],
   "source": [
    "from sklearn.linear_model import Ridge\n",
    "import numpy as np\n",
    "\n",
    "# print(df.iloc[0,:])\n",
    "# print(np.array(df))\n",
    "input_houses = np.array(df)\n",
    "output_prices = df['price']\n",
    "\n",
    "clf = Ridge(alpha=1000000000000)\n",
    "clf.fit(input_houses, output_prices)\n",
    "# Ridge()\n",
    "\n",
    "\n",
    "# TEST CECI EST UN TEST DE PREDICTION TEST CECI EST UN TEST DE PREDICTION\n",
    "# print(df.head()[0])\n",
    "myX=[[7.129301e+09,6.000000e+00,2.219000e+05,3.000000e+00,1.000000e+00,1.180000e+03,5.650000e+03,1.000000e+00,0.000000e+00,0.000000e+00,3.000000e+00,7.000000e+00,1.180000e+03,0.000000e+00,1.955000e+03,0.000000e+00,9.817800e+04,4.751120e+01,-1.222570e+02,1.340000e+03,5.650000e+03]]\n",
    "pricePrediction = clf.predict(myX)[0]\n",
    "print(f\"TEST DE PREDCTION SUR UNE MAISON CONNUE\\nreal price:    {int(2.219000e+05)}$\\npredict price: {int(pricePrediction)}$\")"
   ]
  },
  {
   "attachments": {},
   "cell_type": "markdown",
   "metadata": {},
   "source": [
    "# Modèle de régression ridge à noyau\n",
    "\n",
    "[blabla à compléter]"
   ]
  }
 ],
 "metadata": {
  "kernelspec": {
   "display_name": "Python 3",
   "language": "python",
   "name": "python3"
  },
  "language_info": {
   "codemirror_mode": {
    "name": "ipython",
    "version": 3
   },
   "file_extension": ".py",
   "mimetype": "text/x-python",
   "name": "python",
   "nbconvert_exporter": "python",
   "pygments_lexer": "ipython3",
   "version": "3.8.10"
  },
  "orig_nbformat": 4,
  "vscode": {
   "interpreter": {
    "hash": "e7370f93d1d0cde622a1f8e1c04877d8463912d04d973331ad4851f04de6915a"
   }
  }
 },
 "nbformat": 4,
 "nbformat_minor": 2
}
