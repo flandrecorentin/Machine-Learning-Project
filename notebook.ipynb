{
 "cells": [
  {
   "attachments": {},
   "cell_type": "markdown",
   "metadata": {},
   "source": [
    "# H4221 - Rapport Machine Learning\n",
    "\n",
    "[a compléter]\n",
    "\n",
    "Auteurs: \n",
    "- DUBILLOT Elise\n",
    "- FLANDRE Corentin\n",
    "- THOMAS Colin"
   ]
  },
  {
   "attachments": {},
   "cell_type": "markdown",
   "metadata": {},
   "source": [
    "## Introduction\n",
    "\n",
    "L'objectif du projet est de tester différents modèles de [a compléter]"
   ]
  },
  {
   "cell_type": "code",
   "execution_count": null,
   "metadata": {},
   "outputs": [],
   "source": [
    "print(\"hello-world\")"
   ]
  },
  {
   "attachments": {},
   "cell_type": "markdown",
   "metadata": {},
   "source": [
    "## Chargement du jeu de données"
   ]
  },
  {
   "cell_type": "code",
   "execution_count": null,
   "metadata": {},
   "outputs": [],
   "source": [
    "import pandas as pd\n",
    "\n",
    "df = pd.read_csv(\"kc_house_data.csv\")\n",
    "print(df)\n"
   ]
  },
  {
   "attachments": {},
   "cell_type": "markdown",
   "metadata": {},
   "source": [
    "### Traitement du jeu de données\n",
    "\n",
    "[blabla à compléter]\n",
    "\n",
    "Un traitement sur la date est à réaliser. Nous faisons le choix d'identifier uniquement le mois de la vente pour l'utilisr plus tard. Le jeu de données prend en compte des dates entre Mai 2014 et Mai 2015"
   ]
  },
  {
   "cell_type": "code",
   "execution_count": null,
   "metadata": {},
   "outputs": [],
   "source": [
    "# print(df[\"date\"])\n",
    "print(f\"size: {len(df)}\")\n",
    "print(df[\"date\"])\n",
    "for i in range(len(df)):\n",
    "    year = int(df[\"date\"][i][0:4])\n",
    "    month = int(df[\"date\"][i][4:6])\n",
    "    # day = int(df[\"date\"][i][6:8]) # donnee non utilise pour notre traitement\n",
    "    new_date = \"error\"\n",
    "    if year==2014:\n",
    "        if month==5:\n",
    "            new_date = \"month1\"\n",
    "        elif month==6:\n",
    "            new_date = \"month2\"    \n",
    "        elif month==7:\n",
    "            new_date = \"month3\" \n",
    "        elif month==8:\n",
    "            new_date = \"month4\" \n",
    "        elif month==9:\n",
    "            new_date = \"month5\" \n",
    "        elif month==10:\n",
    "            new_date = \"month6\" \n",
    "        elif month==11:\n",
    "            new_date = \"month7\"\n",
    "        elif month==12:\n",
    "            new_date = \"month8\"\n",
    "    elif year==2015:\n",
    "        if month==1:\n",
    "            new_date = \"month9\"\n",
    "        elif month==2:\n",
    "            new_date = \"month10\"    \n",
    "        elif month==3:\n",
    "            new_date = \"month11\" \n",
    "        elif month==4:\n",
    "            new_date = \"month12\" \n",
    "        elif month==5:\n",
    "            new_date = \"month13\" \n",
    "    df[\"date\"][i] = new_date\n",
    "print(\"--------------------\")\n",
    "# print(df[\"date\"])\n",
    "print(df)\n",
    "    \n",
    "    \n"
   ]
  },
  {
   "attachments": {},
   "cell_type": "markdown",
   "metadata": {},
   "source": [
    "## Exploration du jeu de données"
   ]
  },
  {
   "cell_type": "code",
   "execution_count": null,
   "metadata": {},
   "outputs": [],
   "source": [
    "import matplotlib.pyplot as plt\n",
    "\n",
    "  \n",
    "dfsorted = df[[\"price\", \"bathrooms\"]]\n",
    "dfsorted.sort_values(by=[\"bathrooms\"], inplace=True)\n",
    "\n",
    "dfpbyb = dfsorted.groupby(\"bathrooms\")[\"price\"].mean()\n",
    "\n",
    "dfpbyb.to_numpy()\n",
    "plt.plot(dfpbyb[:])\n",
    "\n",
    "plt.xlabel('Nombre de salles de bains')\n",
    "plt.ylabel('Prix moyen (en $)')\n",
    "plt.title('Prix en fonction du nombre de salles de bains')\n",
    "plt.show()\n",
    "  \n",
    "dfsorted = df[[\"price\", \"floors\"]]\n",
    "dfsorted.sort_values(by=[\"floors\"], inplace=True)\n",
    "\n",
    "dfpbyb = dfsorted.groupby(\"floors\")[\"price\"].mean()\n",
    "\n",
    "dfpbyb.to_numpy()\n",
    "plt.plot(dfpbyb[:])\n",
    "\n",
    "plt.xlabel(\"Nombre d'étages\")\n",
    "plt.ylabel('Prix moyen (en $)')\n",
    "plt.title('Prix en fonction du nombre d\\'étages')\n",
    "plt.show()\n",
    "\n",
    "\n",
    "dfsorted = df[[\"price\", \"sqft_living\"]]\n",
    "dfsorted.sort_values(by=[\"sqft_living\"], inplace=True)\n",
    "\n",
    "dfpbyb = dfsorted.groupby(\"sqft_living\")[\"price\"].mean()\n",
    "\n",
    "dfpbyb.to_numpy()\n",
    "plt.plot(dfpbyb[:])\n",
    "\n",
    "plt.xlabel(\"Nombre de mètres carrés vivables\")\n",
    "plt.ylabel('Prix moyen (en $)')\n",
    "plt.title('Prix en fonction du nombre de mètres carrés vivables')\n",
    "plt.show()\n",
    "\n",
    "\n",
    "dfsorted = df[[\"price\", \"bedrooms\"]]\n",
    "dfsorted.sort_values(by=[\"bedrooms\"], inplace=True)\n",
    "\n",
    "dfpbyb = dfsorted.groupby(\"bedrooms\")[\"price\"].mean()\n",
    "\n",
    "dfpbyb.to_numpy()\n",
    "plt.plot(dfpbyb[:])\n",
    "\n",
    "plt.xlabel(\"Nombre de chambres\")\n",
    "plt.ylabel('Prix moyen (en $)')\n",
    "plt.title('Prix en fonction du nombre de chambres')\n",
    "plt.show()\n",
    "\n",
    "\n",
    "dfsorted = df[[\"price\", \"sqft_lot\"]]\n",
    "dfsorted.sort_values(by=[\"sqft_lot\"], inplace=True)\n",
    "\n",
    "dfpbyb = dfsorted.groupby(\"sqft_lot\")[\"price\"].mean()\n",
    "\n",
    "dfpbyb.to_numpy()\n",
    "plt.plot(dfpbyb[:])\n",
    "\n",
    "plt.xlabel(\"Taille du terrain en sqrft\")\n",
    "plt.ylabel('Prix moyen (en $)')\n",
    "plt.title('Prix en fonction de la taille du terrain')\n",
    "plt.show()\n",
    "\n",
    "dfsorted = df[[\"price\", \"zipcode\"]]\n",
    "dfsorted.sort_values(by=[\"zipcode\"], inplace=True)\n",
    "\n",
    "dfpbyb = dfsorted.groupby(\"zipcode\")[\"price\"].mean()\n",
    "\n",
    "dfpbyb.to_numpy()\n",
    "plt.plot(dfpbyb[:])\n",
    "\n",
    "plt.xlabel(\"ZIPCODE\")\n",
    "plt.ylabel('Prix moyen (en $)')\n",
    "plt.title('Prix en fonction du zipcode')\n",
    "plt.show()\n",
    "\n",
    "\n",
    "dfsorted = df[[\"price\", \"lat\"]]\n",
    "dfsorted.sort_values(by=[\"lat\"], inplace=True)\n",
    "\n",
    "dfpbyb = dfsorted.groupby(\"lat\")[\"price\"].mean()\n",
    "\n",
    "dfpbyb.to_numpy()\n",
    "plt.hist(df[\"lat\"], bins = 30)\n",
    "\n",
    "plt.xlabel(\"Latitude\")\n",
    "plt.title('Répartition des données sur la latitude')\n",
    "plt.show()\n",
    "\n",
    "dfsorted = df[[\"price\", \"long\"]]\n",
    "dfsorted.sort_values(by=[\"long\"], inplace=True)\n",
    "\n",
    "dfpbyb = dfsorted.groupby(\"long\")[\"price\"].mean()\n",
    "\n",
    "dfpbyb.to_numpy()\n",
    "plt.hist(df[\"long\"])\n",
    "\n",
    "plt.xlabel(\"Longitude\")\n",
    "plt.title('Répartition des données sur la longitude')\n",
    "plt.show()\n"
   ]
  },
  {
   "cell_type": "code",
   "execution_count": null,
   "metadata": {},
   "outputs": [],
   "source": [
    "import plotly.express as px\n",
    "\n",
    "fig = px.density_mapbox(df, lat='lat', lon='long',\n",
    "                        mapbox_style=\"stamen-terrain\")\n",
    " \n",
    "fig"
   ]
  },
  {
   "attachments": {},
   "cell_type": "markdown",
   "metadata": {},
   "source": [
    "On remarque ici plusieurs cas aberrants, que l'on traitera dans la partie traitement des données.\n",
    "Par exemple, dans le cas du nombre de chambre, on remarque une donnée qui représente une maison de 33 chambres, coûtant moins qu'une maison moyenne de 7 chambres et n'ayant que 1.25 salles de bain.\n",
    "On remarque également que le prix et la taille du terrain ne semblent pas avoir un lien au delà de environ 0.05 sqft. On peut supposer que cela est du à la multiplicité de facteurs influençant le prix."
   ]
  }
 ],
 "metadata": {
  "kernelspec": {
   "display_name": "Python 3",
   "language": "python",
   "name": "python3"
  },
  "language_info": {
   "codemirror_mode": {
    "name": "ipython",
    "version": 3
   },
   "file_extension": ".py",
   "mimetype": "text/x-python",
   "name": "python",
   "nbconvert_exporter": "python",
   "pygments_lexer": "ipython3",
   "version": "3.8.10"
  },
  "orig_nbformat": 4,
  "vscode": {
   "interpreter": {
    "hash": "e7370f93d1d0cde622a1f8e1c04877d8463912d04d973331ad4851f04de6915a"
   }
  }
 },
 "nbformat": 4,
 "nbformat_minor": 2
}
